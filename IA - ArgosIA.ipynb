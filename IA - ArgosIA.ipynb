{
  "nbformat": 4,
  "nbformat_minor": 0,
  "metadata": {
    "colab": {
      "provenance": []
    },
    "kernelspec": {
      "name": "python3",
      "display_name": "Python 3"
    },
    "language_info": {
      "name": "python"
    }
  },
  "cells": [
    {
      "cell_type": "code",
      "execution_count": null,
      "metadata": {
        "colab": {
          "base_uri": "https://localhost:8080/"
        },
        "id": "euK7a2uj_ziY",
        "outputId": "d627aee5-0013-4159-89df-156b14e2bbe2"
      },
      "outputs": [
        {
          "output_type": "stream",
          "name": "stdout",
          "text": [
            "Mounted at /content/drive\n"
          ]
        }
      ],
      "source": [
        "from google.colab import drive\n",
        "drive.mount('/content/drive')"
      ]
    },
    {
      "cell_type": "code",
      "source": [
        "import pandas as pd\n",
        "\n",
        "# Carregar o CSV de clientes\n",
        "clientes_path = '/content/drive/MyDrive/TreinamentoClienteArgosAI/Clientes.csv'\n",
        "clientes_df = pd.read_csv(clientes_path)\n",
        "\n",
        "# Carregar o Excel de produtos\n",
        "produtos_path = '/content/drive/MyDrive/TreinamentoClienteArgosAI/Produtos.xlsx'\n",
        "produtos_df = pd.read_excel(produtos_path)\n"
      ],
      "metadata": {
        "id": "15TDcNzhAB2E"
      },
      "execution_count": null,
      "outputs": []
    },
    {
      "cell_type": "code",
      "source": [
        "# Visualizar as primeiras linhas dos dados de clientes\n",
        "print(\"Dados de Clientes:\")\n",
        "print(clientes_df.head())\n",
        "\n",
        "# Visualizar as primeiras linhas dos dados de produtos\n",
        "print(\"\\nDados de Produtos:\")\n",
        "print(produtos_df.head())\n",
        "\n",
        "# Obter um resumo estatístico e informações sobre os dados\n",
        "print(\"\\nResumo dos Dados de Clientes:\")\n",
        "print(clientes_df.describe(include='all'))\n",
        "\n",
        "print(\"\\nResumo dos Dados de Produtos:\")\n",
        "print(produtos_df.describe(include='all'))\n"
      ],
      "metadata": {
        "colab": {
          "base_uri": "https://localhost:8080/"
        },
        "id": "llR_UiiEAHrn",
        "outputId": "5e7700c1-cf83-413a-fed1-1dbc08e2c4b8"
      },
      "execution_count": null,
      "outputs": [
        {
          "output_type": "stream",
          "name": "stdout",
          "text": [
            "Dados de Clientes:\n",
            "  ID Cliente;Primeiro Nome;Sobrenome;E-mail;Genero;Numero de Filhos;Data de Nascimento;;;;\n",
            "0  1;Garnet;Lanfranchi;glanfranchi0@mayoclinic.co...                                      \n",
            "1  2;Lurette;Roseblade;lroseblade1@bigcartel.com;...                                      \n",
            "2  3;Glenden;Ishchenko;gishchenko2@moonfruit.com;...                                      \n",
            "3  4;Baron;Jedrzejewsky;bjedrzejewsky3@e-recht24....                                      \n",
            "4  5;Sheree;Bredbury;sbredbury4@sitemeter.com;Fem...                                      \n",
            "\n",
            "Dados de Produtos:\n",
            "   ID Produto     Gênero Faixa Etária  Idade   Produtos  \\\n",
            "0           1  Masculino       Jovens     22  Camisetas   \n",
            "1           2  Masculino       Jovens     24   Bermudas   \n",
            "2           3  Masculino       Jovens     21     Blusas   \n",
            "3           4  Masculino       Jovens     23    Regatas   \n",
            "4           5  Masculino       Jovens     20   Vestidos   \n",
            "\n",
            "                                 Descrição Tamanho  \n",
            "0         Camiseta de algodão com estampa.       M  \n",
            "1                 Bermuda casual de sarja.       G  \n",
            "2               Blusa leve de manga curta.       P  \n",
            "3         Regata confortável para o verão.       M  \n",
            "4  Vestido casual para ocasiões informais.       G  \n",
            "\n",
            "Resumo dos Dados de Clientes:\n",
            "       ID Cliente;Primeiro Nome;Sobrenome;E-mail;Genero;Numero de Filhos;Data de Nascimento;;;;\n",
            "count                                               39504                                      \n",
            "unique                                              39504                                      \n",
            "top     1;Garnet;Lanfranchi;glanfranchi0@mayoclinic.co...                                      \n",
            "freq                                                    1                                      \n",
            "\n",
            "Resumo dos Dados de Produtos:\n",
            "        ID Produto     Gênero Faixa Etária      Idade   Produtos  \\\n",
            "count   300.000000        300          300  300.00000        300   \n",
            "unique         NaN          2            4        NaN          5   \n",
            "top            NaN  Masculino       Jovens        NaN  Camisetas   \n",
            "freq           NaN        160           75        NaN         60   \n",
            "mean    150.500000        NaN          NaN   44.71000        NaN   \n",
            "std      86.746758        NaN          NaN   19.03155        NaN   \n",
            "min       1.000000        NaN          NaN   13.00000        NaN   \n",
            "25%      75.750000        NaN          NaN   27.00000        NaN   \n",
            "50%     150.500000        NaN          NaN   41.50000        NaN   \n",
            "75%     225.250000        NaN          NaN   62.00000        NaN   \n",
            "max     300.000000        NaN          NaN   78.00000        NaN   \n",
            "\n",
            "                            Descrição Tamanho  \n",
            "count                             300     300  \n",
            "unique                            228       4  \n",
            "top     Vestido casual e confortável.       M  \n",
            "freq                                8     100  \n",
            "mean                              NaN     NaN  \n",
            "std                               NaN     NaN  \n",
            "min                               NaN     NaN  \n",
            "25%                               NaN     NaN  \n",
            "50%                               NaN     NaN  \n",
            "75%                               NaN     NaN  \n",
            "max                               NaN     NaN  \n"
          ]
        }
      ]
    },
    {
      "cell_type": "code",
      "source": [
        "# Verificar as faixas etárias únicas no conjunto de dados\n",
        "print(produtos_df['Faixa Etária'].unique())\n"
      ],
      "metadata": {
        "colab": {
          "base_uri": "https://localhost:8080/"
        },
        "id": "Aj2NpF0nEUP3",
        "outputId": "bb581cb6-c55d-4cfe-e710-9d1cd086c0b4"
      },
      "execution_count": null,
      "outputs": [
        {
          "output_type": "stream",
          "name": "stdout",
          "text": [
            "['Jovens' 'Adultos jovens' 'Adultos de meia-idade' 'Idosos']\n"
          ]
        }
      ]
    },
    {
      "cell_type": "code",
      "source": [
        "# Carregar o CSV de clientes com o separador correto\n",
        "clientes_df = pd.read_csv(clientes_path, sep=';')\n",
        "\n",
        "# Remover colunas vazias\n",
        "clientes_df = clientes_df.dropna(axis=1, how='all')\n",
        "\n",
        "# Checar os dados após remoção de colunas vazias\n",
        "print(\"Dados de Clientes após remoção de colunas vazias:\")\n",
        "print(clientes_df.head())\n",
        "print(clientes_df.info())\n"
      ],
      "metadata": {
        "colab": {
          "base_uri": "https://localhost:8080/"
        },
        "id": "528K9FuDAPMe",
        "outputId": "c97ce4a5-6267-4fe7-aac3-0996c785fbd6"
      },
      "execution_count": null,
      "outputs": [
        {
          "output_type": "stream",
          "name": "stdout",
          "text": [
            "Dados de Clientes após remoção de colunas vazias:\n",
            "   ID Cliente Primeiro Nome     Sobrenome                       E-mail  \\\n",
            "0           1        Garnet    Lanfranchi  glanfranchi0@mayoclinic.com   \n",
            "1           2       Lurette     Roseblade    lroseblade1@bigcartel.com   \n",
            "2           3       Glenden     Ishchenko    gishchenko2@moonfruit.com   \n",
            "3           4         Baron  Jedrzejewsky  bjedrzejewsky3@e-recht24.de   \n",
            "4           5        Sheree      Bredbury     sbredbury4@sitemeter.com   \n",
            "\n",
            "      Genero  Numero de Filhos Data de Nascimento  \n",
            "0   Feminino                 2         12/05/1995  \n",
            "1   Feminino                 2         30/06/1943  \n",
            "2  Masculino                 5         09/04/1989  \n",
            "3  Masculino                 4         17/11/1998  \n",
            "4   Feminino                 5         08/09/1975  \n",
            "<class 'pandas.core.frame.DataFrame'>\n",
            "RangeIndex: 39504 entries, 0 to 39503\n",
            "Data columns (total 7 columns):\n",
            " #   Column              Non-Null Count  Dtype \n",
            "---  ------              --------------  ----- \n",
            " 0   ID Cliente          39504 non-null  int64 \n",
            " 1   Primeiro Nome       39504 non-null  object\n",
            " 2   Sobrenome           39504 non-null  object\n",
            " 3   E-mail              39504 non-null  object\n",
            " 4   Genero              39504 non-null  object\n",
            " 5   Numero de Filhos    39504 non-null  int64 \n",
            " 6   Data de Nascimento  39504 non-null  object\n",
            "dtypes: int64(2), object(5)\n",
            "memory usage: 2.1+ MB\n",
            "None\n"
          ]
        }
      ]
    },
    {
      "cell_type": "code",
      "source": [
        "# Converter 'Data de Nascimento' para datetime\n",
        "clientes_df['Data de Nascimento'] = pd.to_datetime(clientes_df['Data de Nascimento'], format='%d/%m/%Y', errors='coerce')\n",
        "\n",
        "# Função para calcular a idade\n",
        "def calcular_idade(data_nascimento):\n",
        "    if pd.isnull(data_nascimento):\n",
        "        return None\n",
        "    today = pd.Timestamp.now()\n",
        "    idade = today.year - data_nascimento.year - ((today.month, today.day) < (data_nascimento.month, data_nascimento.day))\n",
        "    return idade\n",
        "\n",
        "# Aplicar a função para calcular a idade\n",
        "clientes_df['Idade'] = clientes_df['Data de Nascimento'].apply(calcular_idade)\n",
        "\n",
        "# Remover a coluna de 'Data de Nascimento'\n",
        "clientes_df = clientes_df.drop(columns=['Data de Nascimento'])\n",
        "\n",
        "# Checar os dados após cálculo da idade\n",
        "print(\"Dados de Clientes após cálculo da idade:\")\n",
        "print(clientes_df.head())\n",
        "print(clientes_df.info())"
      ],
      "metadata": {
        "colab": {
          "base_uri": "https://localhost:8080/"
        },
        "id": "tKNprP0dAwH6",
        "outputId": "f1384e81-16da-4cd8-9aa0-bcc7421886f0"
      },
      "execution_count": null,
      "outputs": [
        {
          "output_type": "stream",
          "name": "stdout",
          "text": [
            "Dados de Clientes após cálculo da idade:\n",
            "   ID Cliente Primeiro Nome     Sobrenome                       E-mail  \\\n",
            "0           1        Garnet    Lanfranchi  glanfranchi0@mayoclinic.com   \n",
            "1           2       Lurette     Roseblade    lroseblade1@bigcartel.com   \n",
            "2           3       Glenden     Ishchenko    gishchenko2@moonfruit.com   \n",
            "3           4         Baron  Jedrzejewsky  bjedrzejewsky3@e-recht24.de   \n",
            "4           5        Sheree      Bredbury     sbredbury4@sitemeter.com   \n",
            "\n",
            "      Genero  Numero de Filhos  Idade  \n",
            "0   Feminino                 2     29  \n",
            "1   Feminino                 2     81  \n",
            "2  Masculino                 5     35  \n",
            "3  Masculino                 4     25  \n",
            "4   Feminino                 5     49  \n",
            "<class 'pandas.core.frame.DataFrame'>\n",
            "RangeIndex: 39504 entries, 0 to 39503\n",
            "Data columns (total 7 columns):\n",
            " #   Column            Non-Null Count  Dtype \n",
            "---  ------            --------------  ----- \n",
            " 0   ID Cliente        39504 non-null  int64 \n",
            " 1   Primeiro Nome     39504 non-null  object\n",
            " 2   Sobrenome         39504 non-null  object\n",
            " 3   E-mail            39504 non-null  object\n",
            " 4   Genero            39504 non-null  object\n",
            " 5   Numero de Filhos  39504 non-null  int64 \n",
            " 6   Idade             39504 non-null  int64 \n",
            "dtypes: int64(3), object(4)\n",
            "memory usage: 2.1+ MB\n",
            "None\n"
          ]
        }
      ]
    },
    {
      "cell_type": "code",
      "source": [
        "# Verificar as faixas etárias únicas no conjunto de dados\n",
        "print(produtos_df['Faixa Etária'].unique())\n"
      ],
      "metadata": {
        "colab": {
          "base_uri": "https://localhost:8080/"
        },
        "id": "IOVs_mpYEfgE",
        "outputId": "0af8088a-c39f-4e19-a9d4-98abc598122e"
      },
      "execution_count": null,
      "outputs": [
        {
          "output_type": "stream",
          "name": "stdout",
          "text": [
            "['Jovens' 'Adultos jovens' 'Adultos de meia-idade' 'Idosos']\n"
          ]
        }
      ]
    },
    {
      "cell_type": "code",
      "source": [
        "# Codificar a variável 'Genero' para facilitar na analise\n",
        "clientes_df = pd.get_dummies(clientes_df, columns=['Genero'], drop_first=True)\n",
        "\n",
        "# Checar os dados após codificação\n",
        "print(\"Dados de Clientes após codificação:\")\n",
        "print(clientes_df.head())"
      ],
      "metadata": {
        "colab": {
          "base_uri": "https://localhost:8080/"
        },
        "id": "g8fnTqIwA6kU",
        "outputId": "871826fc-ad9b-475f-b3c2-edc2c7ff9818"
      },
      "execution_count": null,
      "outputs": [
        {
          "output_type": "stream",
          "name": "stdout",
          "text": [
            "Dados de Clientes após codificação:\n",
            "   ID Cliente Primeiro Nome     Sobrenome                       E-mail  \\\n",
            "0           1        Garnet    Lanfranchi  glanfranchi0@mayoclinic.com   \n",
            "1           2       Lurette     Roseblade    lroseblade1@bigcartel.com   \n",
            "2           3       Glenden     Ishchenko    gishchenko2@moonfruit.com   \n",
            "3           4         Baron  Jedrzejewsky  bjedrzejewsky3@e-recht24.de   \n",
            "4           5        Sheree      Bredbury     sbredbury4@sitemeter.com   \n",
            "\n",
            "   Numero de Filhos  Idade  Genero_Masculino  \n",
            "0                 2     29             False  \n",
            "1                 2     81             False  \n",
            "2                 5     35              True  \n",
            "3                 4     25              True  \n",
            "4                 5     49             False  \n"
          ]
        }
      ]
    },
    {
      "cell_type": "code",
      "source": [
        "# Verificar as faixas etárias únicas no conjunto de dados\n",
        "print(produtos_df['Faixa Etária'].unique())\n"
      ],
      "metadata": {
        "colab": {
          "base_uri": "https://localhost:8080/"
        },
        "id": "cv-TNNAxE0P6",
        "outputId": "a618fea7-e190-4e02-a445-e0d99cf6da95"
      },
      "execution_count": null,
      "outputs": [
        {
          "output_type": "stream",
          "name": "stdout",
          "text": [
            "['Jovens' 'Adultos jovens' 'Adultos de meia-idade' 'Idosos']\n"
          ]
        }
      ]
    },
    {
      "cell_type": "code",
      "source": [
        "#OBSERVANDO TABELA PRODUTOS"
      ],
      "metadata": {
        "id": "ThRsJL7hA9lP"
      },
      "execution_count": null,
      "outputs": []
    },
    {
      "cell_type": "code",
      "source": [
        "print(\"Dados de Produtos:\")\n",
        "print(produtos_df.head())\n",
        "\n",
        "# Obter um resumo estatístico e informações sobre os dados\n",
        "print(\"\\nResumo dos Dados de Produtos:\")\n",
        "print(produtos_df.describe(include='all'))"
      ],
      "metadata": {
        "colab": {
          "base_uri": "https://localhost:8080/"
        },
        "id": "PIrFCc4yCl5D",
        "outputId": "0d030235-2726-4f8b-87e6-115a7bc87abd"
      },
      "execution_count": null,
      "outputs": [
        {
          "output_type": "stream",
          "name": "stdout",
          "text": [
            "Dados de Produtos:\n",
            "   ID Produto     Gênero Faixa Etária  Idade   Produtos  \\\n",
            "0           1  Masculino       Jovens     22  Camisetas   \n",
            "1           2  Masculino       Jovens     24   Bermudas   \n",
            "2           3  Masculino       Jovens     21     Blusas   \n",
            "3           4  Masculino       Jovens     23    Regatas   \n",
            "4           5  Masculino       Jovens     20   Vestidos   \n",
            "\n",
            "                                 Descrição Tamanho  \n",
            "0         Camiseta de algodão com estampa.       M  \n",
            "1                 Bermuda casual de sarja.       G  \n",
            "2               Blusa leve de manga curta.       P  \n",
            "3         Regata confortável para o verão.       M  \n",
            "4  Vestido casual para ocasiões informais.       G  \n",
            "\n",
            "Resumo dos Dados de Produtos:\n",
            "        ID Produto     Gênero Faixa Etária      Idade   Produtos  \\\n",
            "count   300.000000        300          300  300.00000        300   \n",
            "unique         NaN          2            4        NaN          5   \n",
            "top            NaN  Masculino       Jovens        NaN  Camisetas   \n",
            "freq           NaN        160           75        NaN         60   \n",
            "mean    150.500000        NaN          NaN   44.71000        NaN   \n",
            "std      86.746758        NaN          NaN   19.03155        NaN   \n",
            "min       1.000000        NaN          NaN   13.00000        NaN   \n",
            "25%      75.750000        NaN          NaN   27.00000        NaN   \n",
            "50%     150.500000        NaN          NaN   41.50000        NaN   \n",
            "75%     225.250000        NaN          NaN   62.00000        NaN   \n",
            "max     300.000000        NaN          NaN   78.00000        NaN   \n",
            "\n",
            "                            Descrição Tamanho  \n",
            "count                             300     300  \n",
            "unique                            228       4  \n",
            "top     Vestido casual e confortável.       M  \n",
            "freq                                8     100  \n",
            "mean                              NaN     NaN  \n",
            "std                               NaN     NaN  \n",
            "min                               NaN     NaN  \n",
            "25%                               NaN     NaN  \n",
            "50%                               NaN     NaN  \n",
            "75%                               NaN     NaN  \n",
            "max                               NaN     NaN  \n"
          ]
        }
      ]
    },
    {
      "cell_type": "code",
      "source": [
        "# Verificar as faixas etárias únicas no conjunto de dados\n",
        "print(produtos_df['Faixa Etária'].unique())\n"
      ],
      "metadata": {
        "colab": {
          "base_uri": "https://localhost:8080/"
        },
        "id": "CSZU9g7YEuvz",
        "outputId": "d88e09b0-8bb7-46a5-e766-c5caedb1ce92"
      },
      "execution_count": null,
      "outputs": [
        {
          "output_type": "stream",
          "name": "stdout",
          "text": [
            "['Jovens' 'Adultos jovens' 'Adultos de meia-idade' 'Idosos']\n"
          ]
        }
      ]
    },
    {
      "cell_type": "code",
      "source": [
        "import pandas as pd\n",
        "import numpy as np\n",
        "\n",
        "# Exemplo de dados fornecidos\n",
        "np.random.seed(0)  # Para reprodutibilidade\n",
        "\n",
        "# Atualizar o DataFrame para incluir todas as faixas etárias\n",
        "produtos_df = pd.DataFrame({\n",
        "    'ID Produto': range(1, 301),\n",
        "    'Gênero': ['Masculino']*160 + ['Feminino']*140,\n",
        "    'Faixa Etária': np.random.choice(['Jovens', 'Adultos jovens', 'Adultos de meia-idade', 'Idosos'], size=300),\n",
        "    'Idade': np.random.randint(13, 80, size=300),\n",
        "    'Produtos': np.random.choice(['Camisetas', 'Bermudas', 'Blusas', 'Regatas', 'Vestidos'], size=300),\n",
        "    'Descrição': np.random.choice(['Descrição 1', 'Descrição 2', 'Descrição 3'], size=300),\n",
        "    'Tamanho': np.random.choice(['P', 'M', 'G', 'GG'], size=300)\n",
        "})\n",
        "\n",
        "# Agrupar por Faixa Etária e Produtos e contar quantidades\n",
        "produto_por_faixa_etaria = produtos_df.groupby(['Faixa Etária', 'Produtos']).size().reset_index(name='Quantidade')\n",
        "\n",
        "# Ordenar por Faixa Etária e Quantidade\n",
        "produto_por_faixa_etaria = produto_por_faixa_etaria.sort_values(by=['Faixa Etária', 'Quantidade'], ascending=[True, False])\n",
        "\n",
        "print(\"\\nProdutos comprados por Faixa Etária:\")\n",
        "print(produto_por_faixa_etaria)\n"
      ],
      "metadata": {
        "colab": {
          "base_uri": "https://localhost:8080/"
        },
        "id": "z_QQdINwCs5d",
        "outputId": "633bb9c2-13fa-4800-82b0-a1b96a77a66d"
      },
      "execution_count": null,
      "outputs": [
        {
          "output_type": "stream",
          "name": "stdout",
          "text": [
            "\n",
            "Produtos comprados por Faixa Etária:\n",
            "             Faixa Etária   Produtos  Quantidade\n",
            "4   Adultos de meia-idade   Vestidos          19\n",
            "2   Adultos de meia-idade  Camisetas          18\n",
            "1   Adultos de meia-idade     Blusas          13\n",
            "3   Adultos de meia-idade    Regatas          10\n",
            "0   Adultos de meia-idade   Bermudas           9\n",
            "5          Adultos jovens   Bermudas          17\n",
            "7          Adultos jovens  Camisetas          15\n",
            "9          Adultos jovens   Vestidos          13\n",
            "6          Adultos jovens     Blusas          12\n",
            "8          Adultos jovens    Regatas          10\n",
            "11                 Idosos     Blusas          20\n",
            "14                 Idosos   Vestidos          18\n",
            "10                 Idosos   Bermudas          17\n",
            "12                 Idosos  Camisetas          15\n",
            "13                 Idosos    Regatas          15\n",
            "15                 Jovens   Bermudas          18\n",
            "16                 Jovens     Blusas          18\n",
            "18                 Jovens    Regatas          18\n",
            "19                 Jovens   Vestidos          15\n",
            "17                 Jovens  Camisetas          10\n"
          ]
        }
      ]
    },
    {
      "cell_type": "code",
      "source": [
        "# Verificar as faixas etárias únicas no conjunto de dados\n",
        "print(produtos_df['Faixa Etária'].unique())\n"
      ],
      "metadata": {
        "colab": {
          "base_uri": "https://localhost:8080/"
        },
        "id": "PGSz1iVyEnfE",
        "outputId": "5b8c3c59-843d-4802-c16f-46d68eb77757"
      },
      "execution_count": null,
      "outputs": [
        {
          "output_type": "stream",
          "name": "stdout",
          "text": [
            "['Jovens' 'Idosos' 'Adultos jovens' 'Adultos de meia-idade']\n"
          ]
        }
      ]
    },
    {
      "cell_type": "code",
      "source": [
        "# Agora, agrupamos os produtos por faixa etária e contamos as quantidades de cada produto comprado por diferentes grupos de idade.\n",
        "produto_por_faixa_etaria = produtos_df.groupby(['Faixa Etária', 'Produtos']).size().reset_index(name='Quantidade')\n",
        "\n",
        "produto_por_faixa_etaria = produto_por_faixa_etaria.sort_values(by=['Faixa Etária', 'Quantidade'], ascending=[True, False])\n",
        "\n",
        "#A análise nos mostra quais produtos são mais comprados por cada faixa etária.\n",
        "print(\"\\nProdutos comprados por Faixa Etária:\")\n",
        "print(produto_por_faixa_etaria)\n"
      ],
      "metadata": {
        "colab": {
          "base_uri": "https://localhost:8080/"
        },
        "id": "ynbrIgdPDFe9",
        "outputId": "be003b1d-df15-41c1-baac-f55470e6576b"
      },
      "execution_count": null,
      "outputs": [
        {
          "output_type": "stream",
          "name": "stdout",
          "text": [
            "\n",
            "Produtos comprados por Faixa Etária:\n",
            "             Faixa Etária   Produtos  Quantidade\n",
            "4   Adultos de meia-idade   Vestidos          19\n",
            "2   Adultos de meia-idade  Camisetas          18\n",
            "1   Adultos de meia-idade     Blusas          13\n",
            "3   Adultos de meia-idade    Regatas          10\n",
            "0   Adultos de meia-idade   Bermudas           9\n",
            "5          Adultos jovens   Bermudas          17\n",
            "7          Adultos jovens  Camisetas          15\n",
            "9          Adultos jovens   Vestidos          13\n",
            "6          Adultos jovens     Blusas          12\n",
            "8          Adultos jovens    Regatas          10\n",
            "11                 Idosos     Blusas          20\n",
            "14                 Idosos   Vestidos          18\n",
            "10                 Idosos   Bermudas          17\n",
            "12                 Idosos  Camisetas          15\n",
            "13                 Idosos    Regatas          15\n",
            "15                 Jovens   Bermudas          18\n",
            "16                 Jovens     Blusas          18\n",
            "18                 Jovens    Regatas          18\n",
            "19                 Jovens   Vestidos          15\n",
            "17                 Jovens  Camisetas          10\n"
          ]
        }
      ]
    },
    {
      "cell_type": "code",
      "source": [
        "# Verificar a contagem de produtos por faixa etária\n",
        "contagem_por_faixa_etaria = produtos_df['Faixa Etária'].value_counts()\n",
        "print(contagem_por_faixa_etaria)\n"
      ],
      "metadata": {
        "colab": {
          "base_uri": "https://localhost:8080/"
        },
        "id": "xEBx38nPF10H",
        "outputId": "bc824323-061d-4c8b-ad6c-1bf8ca9a8021"
      },
      "execution_count": null,
      "outputs": [
        {
          "output_type": "stream",
          "name": "stdout",
          "text": [
            "Faixa Etária\n",
            "Idosos                   85\n",
            "Jovens                   79\n",
            "Adultos de meia-idade    69\n",
            "Adultos jovens           67\n",
            "Name: count, dtype: int64\n"
          ]
        }
      ]
    },
    {
      "cell_type": "code",
      "source": [
        "#Genero e produtos"
      ],
      "metadata": {
        "id": "F1eQlpiWF5GP"
      },
      "execution_count": null,
      "outputs": []
    },
    {
      "cell_type": "code",
      "source": [
        "import pandas as pd\n",
        "import numpy as np\n",
        "from sklearn.model_selection import train_test_split\n",
        "from sklearn.ensemble import RandomForestClassifier\n",
        "from sklearn.metrics import classification_report, accuracy_score\n",
        "\n",
        "# Exemplo de dados fornecidos\n",
        "np.random.seed(0)  # Para reprodutibilidade\n",
        "\n",
        "# Atualizar o DataFrame para incluir todas as faixas etárias\n",
        "produtos_df = pd.DataFrame({\n",
        "    'ID Produto': range(1, 301),\n",
        "    'Gênero': np.random.choice(['Masculino', 'Feminino'], size=300),\n",
        "    'Faixa Etária': np.random.choice(['Jovens', 'Adultos jovens', 'Adultos de meia-idade', 'Idosos'], size=300),\n",
        "    'Idade': np.random.randint(13, 80, size=300),\n",
        "    'Produtos': np.random.choice(['Camisetas', 'Bermudas', 'Blusas', 'Regatas', 'Vestidos'], size=300),\n",
        "    'Descrição': np.random.choice(['Descrição 1', 'Descrição 2', 'Descrição 3'], size=300),\n",
        "    'Tamanho': np.random.choice(['P', 'M', 'G', 'GG'], size=300)\n",
        "})\n",
        "\n",
        "# Convertendo variáveis categóricas em numéricas\n",
        "produtos_df_encoded = pd.get_dummies(produtos_df[['Gênero', 'Produtos']], drop_first=True)\n",
        "\n",
        "# Target e Features\n",
        "X = produtos_df_encoded\n",
        "y = produtos_df['Produtos']\n",
        "\n",
        "# Dividir os dados em treinamento e teste\n",
        "X_train, X_test, y_train, y_test = train_test_split(X, y, test_size=0.3, random_state=0)\n",
        "\n",
        "# Passando para a parte de IA, utilizei dois algoritmos de classificação\n",
        "#para prever o tipo de produto baseado no gênero e na faixa etária: Random Forest,\n",
        "#SVM e KNN. Os dados foram divididos em treinamento e teste para avaliar a precisão dos modelos\n",
        "model = RandomForestClassifier(n_estimators=100, random_state=0)\n",
        "model.fit(X_train, y_train)\n",
        "\n",
        "# Fazer previsões\n",
        "y_pred = model.predict(X_test)\n",
        "\n",
        "# Avaliar o modelo\n",
        "accuracy = accuracy_score(y_test, y_pred)\n",
        "report = classification_report(y_test, y_pred)\n",
        "\n",
        "print(f'Accuracy: {accuracy:.2f}')\n",
        "print(\"\\nClassification Report:\")\n",
        "print(report)\n"
      ],
      "metadata": {
        "colab": {
          "base_uri": "https://localhost:8080/"
        },
        "id": "GdEiTPzMGH5I",
        "outputId": "4ae5746c-8d97-4062-c6f0-d341e080b526"
      },
      "execution_count": null,
      "outputs": [
        {
          "output_type": "stream",
          "name": "stdout",
          "text": [
            "Accuracy: 1.00\n",
            "\n",
            "Classification Report:\n",
            "              precision    recall  f1-score   support\n",
            "\n",
            "    Bermudas       1.00      1.00      1.00        23\n",
            "      Blusas       1.00      1.00      1.00        12\n",
            "   Camisetas       1.00      1.00      1.00        16\n",
            "     Regatas       1.00      1.00      1.00        20\n",
            "    Vestidos       1.00      1.00      1.00        19\n",
            "\n",
            "    accuracy                           1.00        90\n",
            "   macro avg       1.00      1.00      1.00        90\n",
            "weighted avg       1.00      1.00      1.00        90\n",
            "\n"
          ]
        }
      ]
    },
    {
      "cell_type": "code",
      "source": [
        "from sklearn.model_selection import cross_val_score\n",
        "scores = cross_val_score(model, X, y, cv=5)\n",
        "print(f'Cross-Validation Accuracy: {scores.mean():.2f} ± {scores.std():.2f}')\n"
      ],
      "metadata": {
        "colab": {
          "base_uri": "https://localhost:8080/"
        },
        "id": "rwywI67EGhT6",
        "outputId": "73752b32-58ed-452f-a9a8-fed1a08db4af"
      },
      "execution_count": null,
      "outputs": [
        {
          "output_type": "stream",
          "name": "stdout",
          "text": [
            "Cross-Validation Accuracy: 1.00 ± 0.00\n"
          ]
        }
      ]
    },
    {
      "cell_type": "code",
      "source": [
        "#Vamos dividir em treinamento e teste"
      ],
      "metadata": {
        "id": "bgs5piw2GpSq"
      },
      "execution_count": null,
      "outputs": []
    },
    {
      "cell_type": "code",
      "source": [
        "from sklearn.model_selection import train_test_split\n",
        "\n",
        "# Dividir os dados em treinamento e teste\n",
        "X_train, X_test, y_train, y_test = train_test_split(X, y, test_size=0.3, random_state=0)\n",
        "\n",
        "# Treinar o modelo\n",
        "model.fit(X_train, y_train)\n",
        "\n",
        "# Avaliar o modelo com o conjunto de teste\n",
        "y_pred = model.predict(X_test)\n",
        "accuracy_test = accuracy_score(y_test, y_pred)\n",
        "print(f'Test Accuracy: {accuracy_test:.2f}')\n"
      ],
      "metadata": {
        "colab": {
          "base_uri": "https://localhost:8080/"
        },
        "id": "9TCdgwMFGs1B",
        "outputId": "cec1e6cf-880c-4126-9f70-359c7b105a9b"
      },
      "execution_count": null,
      "outputs": [
        {
          "output_type": "stream",
          "name": "stdout",
          "text": [
            "Test Accuracy: 1.00\n"
          ]
        }
      ]
    },
    {
      "cell_type": "code",
      "source": [
        "from sklearn.svm import SVC\n",
        "from sklearn.neighbors import KNeighborsClassifier\n",
        "\n",
        "# Testar um classificador SVM\n",
        "model_svm = SVC(kernel='linear', random_state=0)\n",
        "model_svm.fit(X_train, y_train)\n",
        "y_pred_svm = model_svm.predict(X_test)\n",
        "accuracy_svm = accuracy_score(y_test, y_pred_svm)\n",
        "print(f'SVM Test Accuracy: {accuracy_svm:.2f}')\n",
        "\n",
        "# Testar um classificador KNN\n",
        "model_knn = KNeighborsClassifier(n_neighbors=5)\n",
        "model_knn.fit(X_train, y_train)\n",
        "y_pred_knn = model_knn.predict(X_test)\n",
        "accuracy_knn = accuracy_score(y_test, y_pred_knn)\n",
        "print(f'KNN Test Accuracy: {accuracy_knn:.2f}')\n"
      ],
      "metadata": {
        "colab": {
          "base_uri": "https://localhost:8080/"
        },
        "id": "xR_UHpkXGuAX",
        "outputId": "d7973194-9bc5-40a3-e6aa-e2fe5e742988"
      },
      "execution_count": null,
      "outputs": [
        {
          "output_type": "stream",
          "name": "stdout",
          "text": [
            "SVM Test Accuracy: 1.00\n",
            "KNN Test Accuracy: 1.00\n"
          ]
        }
      ]
    },
    {
      "cell_type": "code",
      "source": [
        "from sklearn.metrics import confusion_matrix, classification_report\n",
        "\n",
        "# Matriz de Confusão para SVM\n",
        "conf_matrix_svm = confusion_matrix(y_test, y_pred_svm)\n",
        "print('Confusion Matrix for SVM:\\n', conf_matrix_svm)\n",
        "\n",
        "# Relatório de Classificação para SVM\n",
        "class_report_svm = classification_report(y_test, y_pred_svm)\n",
        "print('Classification Report for SVM:\\n', class_report_svm)\n",
        "\n",
        "# Matriz de Confusão para KNN\n",
        "conf_matrix_knn = confusion_matrix(y_test, y_pred_knn)\n",
        "print('Confusion Matrix for KNN:\\n', conf_matrix_knn)\n",
        "\n",
        "# Relatório de Classificação para KNN\n",
        "class_report_knn = classification_report(y_test, y_pred_knn)\n",
        "print('Classification Report for KNN:\\n', class_report_knn)\n"
      ],
      "metadata": {
        "colab": {
          "base_uri": "https://localhost:8080/"
        },
        "id": "9pQu9PBOG1nR",
        "outputId": "15897dfa-7a56-4d98-fbf8-cc192bbd92b4"
      },
      "execution_count": null,
      "outputs": [
        {
          "output_type": "stream",
          "name": "stdout",
          "text": [
            "Confusion Matrix for SVM:\n",
            " [[23  0  0  0  0]\n",
            " [ 0 12  0  0  0]\n",
            " [ 0  0 16  0  0]\n",
            " [ 0  0  0 20  0]\n",
            " [ 0  0  0  0 19]]\n",
            "Classification Report for SVM:\n",
            "               precision    recall  f1-score   support\n",
            "\n",
            "    Bermudas       1.00      1.00      1.00        23\n",
            "      Blusas       1.00      1.00      1.00        12\n",
            "   Camisetas       1.00      1.00      1.00        16\n",
            "     Regatas       1.00      1.00      1.00        20\n",
            "    Vestidos       1.00      1.00      1.00        19\n",
            "\n",
            "    accuracy                           1.00        90\n",
            "   macro avg       1.00      1.00      1.00        90\n",
            "weighted avg       1.00      1.00      1.00        90\n",
            "\n",
            "Confusion Matrix for KNN:\n",
            " [[23  0  0  0  0]\n",
            " [ 0 12  0  0  0]\n",
            " [ 0  0 16  0  0]\n",
            " [ 0  0  0 20  0]\n",
            " [ 0  0  0  0 19]]\n",
            "Classification Report for KNN:\n",
            "               precision    recall  f1-score   support\n",
            "\n",
            "    Bermudas       1.00      1.00      1.00        23\n",
            "      Blusas       1.00      1.00      1.00        12\n",
            "   Camisetas       1.00      1.00      1.00        16\n",
            "     Regatas       1.00      1.00      1.00        20\n",
            "    Vestidos       1.00      1.00      1.00        19\n",
            "\n",
            "    accuracy                           1.00        90\n",
            "   macro avg       1.00      1.00      1.00        90\n",
            "weighted avg       1.00      1.00      1.00        90\n",
            "\n"
          ]
        }
      ]
    },
    {
      "cell_type": "code",
      "source": [
        "# Visualizar as últimas 5 linhas da tabela\n",
        "print(produtos_df.tail())\n"
      ],
      "metadata": {
        "colab": {
          "base_uri": "https://localhost:8080/"
        },
        "id": "i0gppKF9G_5V",
        "outputId": "f9c469f5-6601-4060-d042-ec9b774b03f6"
      },
      "execution_count": null,
      "outputs": [
        {
          "output_type": "stream",
          "name": "stdout",
          "text": [
            "     ID Produto     Gênero           Faixa Etária  Idade   Produtos  \\\n",
            "295         296  Masculino                 Jovens     42     Blusas   \n",
            "296         297  Masculino                 Jovens     18   Bermudas   \n",
            "297         298  Masculino                 Idosos     53  Camisetas   \n",
            "298         299   Feminino  Adultos de meia-idade     35   Bermudas   \n",
            "299         300   Feminino         Adultos jovens     43   Vestidos   \n",
            "\n",
            "       Descrição Tamanho  \n",
            "295  Descrição 3      GG  \n",
            "296  Descrição 3       G  \n",
            "297  Descrição 2      GG  \n",
            "298  Descrição 3       P  \n",
            "299  Descrição 1       P  \n"
          ]
        }
      ]
    },
    {
      "cell_type": "code",
      "source": [
        "# Visualizar toda a tabela (não recomendado para grandes tabelas)\n",
        "print(produtos_df)\n"
      ],
      "metadata": {
        "colab": {
          "base_uri": "https://localhost:8080/"
        },
        "id": "71HgciOvHWjk",
        "outputId": "59e6512d-f440-43e4-f329-fa799392f991"
      },
      "execution_count": null,
      "outputs": [
        {
          "output_type": "stream",
          "name": "stdout",
          "text": [
            "     ID Produto     Gênero           Faixa Etária  Idade   Produtos  \\\n",
            "0             1  Masculino         Adultos jovens     56    Regatas   \n",
            "1             2   Feminino                 Jovens     76   Vestidos   \n",
            "2             3   Feminino                 Idosos     44   Vestidos   \n",
            "3             4  Masculino                 Jovens     33     Blusas   \n",
            "4             5   Feminino  Adultos de meia-idade     22     Blusas   \n",
            "..          ...        ...                    ...    ...        ...   \n",
            "295         296  Masculino                 Jovens     42     Blusas   \n",
            "296         297  Masculino                 Jovens     18   Bermudas   \n",
            "297         298  Masculino                 Idosos     53  Camisetas   \n",
            "298         299   Feminino  Adultos de meia-idade     35   Bermudas   \n",
            "299         300   Feminino         Adultos jovens     43   Vestidos   \n",
            "\n",
            "       Descrição Tamanho  \n",
            "0    Descrição 3       P  \n",
            "1    Descrição 1       M  \n",
            "2    Descrição 1       M  \n",
            "3    Descrição 3       G  \n",
            "4    Descrição 1       P  \n",
            "..           ...     ...  \n",
            "295  Descrição 3      GG  \n",
            "296  Descrição 3       G  \n",
            "297  Descrição 2      GG  \n",
            "298  Descrição 3       P  \n",
            "299  Descrição 1       P  \n",
            "\n",
            "[300 rows x 7 columns]\n"
          ]
        }
      ]
    }
  ]
}